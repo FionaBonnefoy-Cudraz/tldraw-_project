{
 "cells": [
  {
   "cell_type": "markdown",
   "metadata": {},
   "source": [
    "---\n",
    "title: Tracking Changes\n",
    "date: 2023-11-30 \n",
    "authors:\n",
    "  - name: Sébastien Boisgérault\n",
    "    email: Sebastien.Boisgerault@minesparis.psl.eu\n",
    "    url: https://github.com/boisgera\n",
    "    affiliations:\n",
    "      - institution: Mines Paris - PSL University\n",
    "        department: Institut des Transformation Numériques (ITN)\n",
    "github: boisgera\n",
    "license: CC-BY-4.0\n",
    "open_access: true\n",
    "---"
   ]
  },
  {
   "cell_type": "markdown",
   "metadata": {},
   "source": [
    "In order to understand how `.tldr` files are structured, we can add a new graphical objects, change some if their properties, etc. and each time we modify the document, analyze the corresponding evolution of the file.\n",
    "\n",
    "In this notebook, we develop some tooling to help us track such changes."
   ]
  },
  {
   "cell_type": "markdown",
   "metadata": {},
   "source": [
    "## Text comparison"
   ]
  },
  {
   "cell_type": "markdown",
   "metadata": {},
   "source": [
    "We define two similar versions of the \"zen of Python\":"
   ]
  },
  {
   "cell_type": "code",
   "execution_count": 1,
   "metadata": {},
   "outputs": [],
   "source": [
    "zen_1 = \"\"\"The Zen of Python, by Tim Peters\n",
    "\n",
    "Beautiful is better than ugly.\n",
    "Explicit is better than implicit.\n",
    "Simple is better than complex.\n",
    "Complex is better than complicated.\n",
    "Flat is better than nested.\n",
    "Sparse is better than dense.\n",
    "Readability counts.\n",
    "Special cases aren't special enough to break the rules.\n",
    "Errors should never pass silently.\n",
    "In the face of ambiguity, refuse the temptation to guess.\n",
    "There should be one obvious way to do it.\n",
    "Although that way may not be obvious at first.\n",
    "Now is better than never.\n",
    "Although never is often better than right now.\n",
    "If the implementation is hard to explain, it's a bad idea.\n",
    "If the implementation is easy to explain, it is a good idea.\n",
    "\"\"\""
   ]
  },
  {
   "cell_type": "code",
   "execution_count": 2,
   "metadata": {},
   "outputs": [],
   "source": [
    "zen_2 = \"\"\"\\\n",
    "The Zen of Python, by Tim Peters\n",
    "\n",
    "Beautiful is better than ugly.\n",
    "Explicit is better than implicit.\n",
    "Simple is better than complex.\n",
    "Complex is better than complicated.\n",
    "Flat is better than nested.\n",
    "Sparse is better than dense.\n",
    "Readability counts.\n",
    "Special cases aren't special enough to break the rules.\n",
    "Although practicality beats purity.\n",
    "Errors should never pass silently.\n",
    "Unless explicitly silenced.\n",
    "In the face of ambiguity, refuse the temptation to guess.\n",
    "There should be one-- and preferably only one --obvious way to do it.\n",
    "Although that way may not be obvious at first unless you're Dutch.\n",
    "Now is better than never.\n",
    "Although never is often better than *right* now.\n",
    "If the implementation is hard to explain, it's a bad idea.\n",
    "If the implementation is easy to explain, it may be a good idea.\n",
    "Namespaces are one honking great idea -- let's do more of those!\n",
    "\"\"\""
   ]
  },
  {
   "cell_type": "markdown",
   "metadata": {},
   "source": [
    "```{exercise}\n",
    " 1. Transform `zen_1` and `zen_2` into list of lines.\n",
    " 2. Use the [`difflib`](https://docs.python.org/3/library/difflib.html) module of the Python standard library to [`compare`](https://docs.python.org/3/library/difflib.html#difflib.Differ.compare) the two sequences.\n",
    " 3. Make a text out of the output of compare and print it.\n",
    " 4. Interpret the result and list the differences between both versions of the zen of Python.\n",
    "```"
   ]
  },
  {
   "cell_type": "code",
   "execution_count": 3,
   "metadata": {},
   "outputs": [
    {
     "name": "stdout",
     "output_type": "stream",
     "text": [
      "['The Zen of Python, by Tim Peters', '', 'Beautiful is better than ugly.', 'Explicit is better than implicit.', 'Simple is better than complex.', 'Complex is better than complicated.', 'Flat is better than nested.', 'Sparse is better than dense.', 'Readability counts.', \"Special cases aren't special enough to break the rules.\", 'Errors should never pass silently.', 'In the face of ambiguity, refuse the temptation to guess.', 'There should be one obvious way to do it.', 'Although that way may not be obvious at first.', 'Now is better than never.', 'Although never is often better than right now.', \"If the implementation is hard to explain, it's a bad idea.\", 'If the implementation is easy to explain, it is a good idea.']\n",
      "['The Zen of Python, by Tim Peters', '', 'Beautiful is better than ugly.', 'Explicit is better than implicit.', 'Simple is better than complex.', 'Complex is better than complicated.', 'Flat is better than nested.', 'Sparse is better than dense.', 'Readability counts.', \"Special cases aren't special enough to break the rules.\", 'Although practicality beats purity.', 'Errors should never pass silently.', 'Unless explicitly silenced.', 'In the face of ambiguity, refuse the temptation to guess.', 'There should be one-- and preferably only one --obvious way to do it.', \"Although that way may not be obvious at first unless you're Dutch.\", 'Now is better than never.', 'Although never is often better than *right* now.', \"If the implementation is hard to explain, it's a bad idea.\", 'If the implementation is easy to explain, it may be a good idea.', \"Namespaces are one honking great idea -- let's do more of those!\"]\n"
     ]
    }
   ],
   "source": [
    "#1.1\n",
    "\n",
    "lines_1 = zen_1.splitlines()\n",
    "lines_2 = zen_2.splitlines()\n",
    "\n",
    "print (lines_1)\n",
    "print (lines_2)"
   ]
  },
  {
   "cell_type": "code",
   "execution_count": 4,
   "metadata": {},
   "outputs": [
    {
     "name": "stdout",
     "output_type": "stream",
     "text": [
      "  The Zen of Python, by Tim Peters\n",
      "  \n",
      "  Beautiful is better than ugly.\n",
      "  Explicit is better than implicit.\n",
      "  Simple is better than complex.\n",
      "  Complex is better than complicated.\n",
      "  Flat is better than nested.\n",
      "  Sparse is better than dense.\n",
      "  Readability counts.\n",
      "  Special cases aren't special enough to break the rules.\n",
      "+ Although practicality beats purity.\n",
      "  Errors should never pass silently.\n",
      "+ Unless explicitly silenced.\n",
      "  In the face of ambiguity, refuse the temptation to guess.\n",
      "- There should be one obvious way to do it.\n",
      "+ There should be one-- and preferably only one --obvious way to do it.\n",
      "- Although that way may not be obvious at first.\n",
      "+ Although that way may not be obvious at first unless you're Dutch.\n",
      "?                                              ++++++++++++++++++++\n",
      "\n",
      "  Now is better than never.\n",
      "- Although never is often better than right now.\n",
      "+ Although never is often better than *right* now.\n",
      "?                                     +     +\n",
      "\n",
      "  If the implementation is hard to explain, it's a bad idea.\n",
      "- If the implementation is easy to explain, it is a good idea.\n",
      "?                                              ^^\n",
      "\n",
      "+ If the implementation is easy to explain, it may be a good idea.\n",
      "?                                              ^^^^^^\n",
      "\n",
      "+ Namespaces are one honking great idea -- let's do more of those!\n"
     ]
    }
   ],
   "source": [
    "#1.2\n",
    "\n",
    "import difflib as diff\n",
    "\n",
    "#appel de la classe Differ du module difflib\n",
    "differ = diff.Differ()  \n",
    "\n",
    "#utilisation de la méthode compare de la classe Differ\n",
    "comp = differ.compare(lines_1, lines_2)  \n",
    "#conversion en une liste\n",
    "comp_list = list(comp) \n",
    "\n",
    "for line in comp_list :\n",
    "   print(line)  "
   ]
  },
  {
   "cell_type": "markdown",
   "metadata": {},
   "source": [
    "We can make our job easier if we use HTML instead of plain text to visualise the differences between the two texts.\n",
    "\n",
    "\n",
    "```{exercise}\n",
    "  1. Use the [HtmlDiff](https://docs.python.org/3/library/difflib.html#difflib.HtmlDiff) class of difflib to produce a `diff.html` file that represents this difference in a HTML document.\n",
    "  2. Use the [webbrowser](https://docs.python.org/3/library/webbrowser.html) module of the standard library to open it!\n",
    "  3. Define a `display_diff_text` function that takes two arguments `text_1` and `text_2` and automates steps 1. and 2.\n",
    "```"
   ]
  },
  {
   "cell_type": "code",
   "execution_count": 9,
   "metadata": {},
   "outputs": [
    {
     "data": {
      "text/plain": [
       "9625"
      ]
     },
     "execution_count": 9,
     "metadata": {},
     "output_type": "execute_result"
    }
   ],
   "source": [
    "#2.1\n",
    "\n",
    "import webbrowser #ouvrir le truc dans un module de recherche ou a minima crée le fichier diff.html\n",
    "\n",
    "html_diff = diff.HtmlDiff()\n",
    "\n",
    "sortie_html = html_diff.make_file(lines_1, lines_2)\n",
    "\n",
    "file = open(\"diff.html\", \"w\")\n",
    "file.write(sortie_html)"
   ]
  },
  {
   "cell_type": "code",
   "execution_count": 8,
   "metadata": {},
   "outputs": [
    {
     "data": {
      "text/plain": [
       "True"
      ]
     },
     "execution_count": 8,
     "metadata": {},
     "output_type": "execute_result"
    }
   ],
   "source": [
    "#2.2\n",
    "\n",
    "webbrowser.open(\"diff.html\")  # problème je n'arrive pas à ouvrir le fichier dans une fenêtre."
   ]
  },
  {
   "cell_type": "code",
   "execution_count": 15,
   "metadata": {},
   "outputs": [],
   "source": [
    "#2.3\n",
    "\n",
    "from IPython.display import HTML\n",
    "\n",
    "#prend en argument deux textes en argument et renvoie un HTML avec les différences entre les textes\n",
    "def display_diff_text (text_1, text_2) :\n",
    "    lines_1 = text_1.splitlines()\n",
    "    lines_2 = text_2.splitlines()\n",
    "    sortie_html = html_diff.make_file(lines_1, lines_2) #crée un contenu HTML avec les différences entre chaque ligne\n",
    "    name = f\"{text_1}{text_2}diff.html\"\n",
    "    file = open(\"name\", \"w\")\n",
    "    file.write(sortie_html)\n",
    "    return HTML(\"name\")"
   ]
  },
  {
   "cell_type": "markdown",
   "metadata": {},
   "source": [
    "## Comparison of JSON documents"
   ]
  },
  {
   "cell_type": "markdown",
   "metadata": {},
   "source": [
    "````{exercise} Comparison of dictionnaries\n",
    "\n",
    " 1. Create a `display_diff` function that takes two Python objects, converts them to strings then leverages `display_diff_text` to display the difference in a browser.\n",
    "\n",
    " 2. Consider the 3 dictionaries defined by\n",
    "    ```python\n",
    "    d1 = {k:k+1 for k in range(100)}\n",
    "    d2 = d1.copy(); d2[50] = 50\n",
    "    d3 = {k:k+1 for k in range(99, -1, -1)}\n",
    "    ```\n",
    "    `d1` and `d2` have a slight difference and `d1` and `d2` are equal.\n",
    "    Does your `display_diff` function make easy to spot where the difference is in the first case when it compares `d1` and `d2`?\n",
    "    Does it make easy to see that `d1` and `d3` are equal?\n",
    "\n",
    "  3. Investigate the [`pprint`](https://docs.python.org/3/library/pprint.html) module standard library ; use it to improve the behavior of `display_text_diff` in the two cases considered in the previous question.\n",
    "\n",
    "````\n",
    " "
   ]
  },
  {
   "cell_type": "code",
   "execution_count": 16,
   "metadata": {},
   "outputs": [],
   "source": [
    "#3.1\n",
    "\n",
    "def display_diff (object1, object2) :\n",
    "    str_1 = str(object1)\n",
    "    str_2 = str(object2)\n",
    "    return display_diff_text(str_1, str_2)"
   ]
  },
  {
   "cell_type": "code",
   "execution_count": 17,
   "metadata": {},
   "outputs": [
    {
     "data": {
      "text/html": [],
      "text/plain": [
       "<IPython.core.display.HTML object>"
      ]
     },
     "execution_count": 17,
     "metadata": {},
     "output_type": "execute_result"
    }
   ],
   "source": [
    "d1 = {k:k+1 for k in range(100)}\n",
    "d2 = d1.copy(); d2[50] = 50\n",
    "d3 = {k:k+1 for k in range(99, -1, -1)}\n",
    "display_diff (d1, d2)"
   ]
  },
  {
   "cell_type": "markdown",
   "metadata": {},
   "source": [
    "**3.2**\n",
    "Ne voit qu'une seule grande ligne au lieu de plein de lignes coupées."
   ]
  },
  {
   "cell_type": "code",
   "execution_count": 20,
   "metadata": {},
   "outputs": [
    {
     "name": "stdout",
     "output_type": "stream",
     "text": [
      "['T', 'h', 'e', ' ', 'Z', 'e', 'n', ' ',\n",
      " 'o', 'f', ' ', 'P', 'y', 't', 'h', 'o',\n",
      " 'n', ',', ' ', 'b', 'y', ' ', 'T', 'i',\n",
      " 'm', ' ', 'P', 'e', 't', 'e', 'r', 's',\n",
      " '\\n', '\\n', 'B', 'e', 'a', 'u', 't',\n",
      " 'i', 'f', 'u', 'l', ' ', 'i', 's', ' ',\n",
      " 'b', 'e', 't', 't', 'e', 'r', ' ', 't',\n",
      " 'h', 'a', 'n', ' ', 'u', 'g', 'l', 'y',\n",
      " '.', '\\n', 'E', 'x', 'p', 'l', 'i', 'c',\n",
      " 'i', 't', ' ', 'i', 's', ' ', 'b', 'e',\n",
      " 't', 't', 'e', 'r', ' ', 't', 'h', 'a',\n",
      " 'n', ' ', 'i', 'm', 'p', 'l', 'i', 'c',\n",
      " 'i', 't', '.', '\\n', 'S', 'i', 'm', 'p',\n",
      " 'l', 'e', ' ', 'i', 's', ' ', 'b', 'e',\n",
      " 't', 't', 'e', 'r', ' ', 't', 'h', 'a',\n",
      " 'n', ' ', 'c', 'o', 'm', 'p', 'l', 'e',\n",
      " 'x', '.', '\\n', 'C', 'o', 'm', 'p', 'l',\n",
      " 'e', 'x', ' ', 'i', 's', ' ', 'b', 'e',\n",
      " 't', 't', 'e', 'r', ' ', 't', 'h', 'a',\n",
      " 'n', ' ', 'c', 'o', 'm', 'p', 'l', 'i',\n",
      " 'c', 'a', 't', 'e', 'd', '.', '\\n', 'F',\n",
      " 'l', 'a', 't', ' ', 'i', 's', ' ', 'b',\n",
      " 'e', 't', 't', 'e', 'r', ' ', 't', 'h',\n",
      " 'a', 'n', ' ', 'n', 'e', 's', 't', 'e',\n",
      " 'd', '.', '\\n', 'S', 'p', 'a', 'r', 's',\n",
      " 'e', ' ', 'i', 's', ' ', 'b', 'e', 't',\n",
      " 't', 'e', 'r', ' ', 't', 'h', 'a', 'n',\n",
      " ' ', 'd', 'e', 'n', 's', 'e', '.', '\\n',\n",
      " 'R', 'e', 'a', 'd', 'a', 'b', 'i', 'l',\n",
      " 'i', 't', 'y', ' ', 'c', 'o', 'u', 'n',\n",
      " 't', 's', '.', '\\n', 'S', 'p', 'e', 'c',\n",
      " 'i', 'a', 'l', ' ', 'c', 'a', 's', 'e',\n",
      " 's', ' ', 'a', 'r', 'e', 'n', \"'\", 't',\n",
      " ' ', 's', 'p', 'e', 'c', 'i', 'a', 'l',\n",
      " ' ', 'e', 'n', 'o', 'u', 'g', 'h', ' ',\n",
      " 't', 'o', ' ', 'b', 'r', 'e', 'a', 'k',\n",
      " ' ', 't', 'h', 'e', ' ', 'r', 'u', 'l',\n",
      " 'e', 's', '.', '\\n', 'E', 'r', 'r', 'o',\n",
      " 'r', 's', ' ', 's', 'h', 'o', 'u', 'l',\n",
      " 'd', ' ', 'n', 'e', 'v', 'e', 'r', ' ',\n",
      " 'p', 'a', 's', 's', ' ', 's', 'i', 'l',\n",
      " 'e', 'n', 't', 'l', 'y', '.', '\\n', 'I',\n",
      " 'n', ' ', 't', 'h', 'e', ' ', 'f', 'a',\n",
      " 'c', 'e', ' ', 'o', 'f', ' ', 'a', 'm',\n",
      " 'b', 'i', 'g', 'u', 'i', 't', 'y', ',',\n",
      " ' ', 'r', 'e', 'f', 'u', 's', 'e', ' ',\n",
      " 't', 'h', 'e', ' ', 't', 'e', 'm', 'p',\n",
      " 't', 'a', 't', 'i', 'o', 'n', ' ', 't',\n",
      " 'o', ' ', 'g', 'u', 'e', 's', 's', '.',\n",
      " '\\n', 'T', 'h', 'e', 'r', 'e', ' ', 's',\n",
      " 'h', 'o', 'u', 'l', 'd', ' ', 'b', 'e',\n",
      " ' ', 'o', 'n', 'e', ' ', 'o', 'b', 'v',\n",
      " 'i', 'o', 'u', 's', ' ', 'w', 'a', 'y',\n",
      " ' ', 't', 'o', ' ', 'd', 'o', ' ', 'i',\n",
      " 't', '.', '\\n', 'A', 'l', 't', 'h', 'o',\n",
      " 'u', 'g', 'h', ' ', 't', 'h', 'a', 't',\n",
      " ' ', 'w', 'a', 'y', ' ', 'm', 'a', 'y',\n",
      " ' ', 'n', 'o', 't', ' ', 'b', 'e', ' ',\n",
      " 'o', 'b', 'v', 'i', 'o', 'u', 's', ' ',\n",
      " 'a', 't', ' ', 'f', 'i', 'r', 's', 't',\n",
      " '.', '\\n', 'N', 'o', 'w', ' ', 'i', 's',\n",
      " ' ', 'b', 'e', 't', 't', 'e', 'r', ' ',\n",
      " 't', 'h', 'a', 'n', ' ', 'n', 'e', 'v',\n",
      " 'e', 'r', '.', '\\n', 'A', 'l', 't', 'h',\n",
      " 'o', 'u', 'g', 'h', ' ', 'n', 'e', 'v',\n",
      " 'e', 'r', ' ', 'i', 's', ' ', 'o', 'f',\n",
      " 't', 'e', 'n', ' ', 'b', 'e', 't', 't',\n",
      " 'e', 'r', ' ', 't', 'h', 'a', 'n', ' ',\n",
      " 'r', 'i', 'g', 'h', 't', ' ', 'n', 'o',\n",
      " 'w', '.', '\\n', 'I', 'f', ' ', 't', 'h',\n",
      " 'e', ' ', 'i', 'm', 'p', 'l', 'e', 'm',\n",
      " 'e', 'n', 't', 'a', 't', 'i', 'o', 'n',\n",
      " ' ', 'i', 's', ' ', 'h', 'a', 'r', 'd',\n",
      " ' ', 't', 'o', ' ', 'e', 'x', 'p', 'l',\n",
      " 'a', 'i', 'n', ',', ' ', 'i', 't', \"'\",\n",
      " 's', ' ', 'a', ' ', 'b', 'a', 'd', ' ',\n",
      " 'i', 'd', 'e', 'a', '.', '\\n', 'I', 'f',\n",
      " ' ', 't', 'h', 'e', ' ', 'i', 'm', 'p',\n",
      " 'l', 'e', 'm', 'e', 'n', 't', 'a', 't',\n",
      " 'i', 'o', 'n', ' ', 'i', 's', ' ', 'e',\n",
      " 'a', 's', 'y', ' ', 't', 'o', ' ', 'e',\n",
      " 'x', 'p', 'l', 'a', 'i', 'n', ',', ' ',\n",
      " 'i', 't', ' ', 'i', 's', ' ', 'a', ' ',\n",
      " 'g', 'o', 'o', 'd', ' ', 'i', 'd', 'e',\n",
      " 'a', '.', '\\n']\n"
     ]
    }
   ],
   "source": [
    "import pprint\n",
    "pp = pprint.PrettyPrinter(width=41, compact=True, stream = None) #41 élément par ligne \n",
    "\n",
    "#test\n",
    "pp.pprint(list(zen_1))"
   ]
  },
  {
   "cell_type": "markdown",
   "metadata": {},
   "source": [
    "```{exercise} tldraw documents comparator\n",
    "Implement a function `tldraw_diff` that takes as argument two filenames that refer to tldraw documents and display their differences in the browser.\n",
    "```"
   ]
  },
  {
   "cell_type": "code",
   "execution_count": 21,
   "metadata": {},
   "outputs": [],
   "source": [
    "def tldraw_diff (filename_1, filename_2) :\n",
    "    file_1 = open(\"filename_1\", mode=\"tr\", encoding = \"utf-8\")\n",
    "    file_2 = open(\"filename_2\", mode=\"tr\", encoding = \"utf-8\")\n",
    "    doc_1 = file_1.read() \n",
    "    doc_2 = file_2.read()\n",
    "    return display_diff(doc_1, doc_2)"
   ]
  }
 ],
 "metadata": {
  "kernelspec": {
   "display_name": "Python 3 (ipykernel)",
   "language": "python",
   "name": "python3"
  },
  "language_info": {
   "codemirror_mode": {
    "name": "ipython",
    "version": 3
   },
   "file_extension": ".py",
   "mimetype": "text/x-python",
   "name": "python",
   "nbconvert_exporter": "python",
   "pygments_lexer": "ipython3",
   "version": "3.11.4"
  }
 },
 "nbformat": 4,
 "nbformat_minor": 4
}
