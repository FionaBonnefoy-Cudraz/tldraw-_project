{
 "cells": [
  {
   "cell_type": "markdown",
   "metadata": {},
   "source": [
    "---\n",
    "title: Tracking Changes\n",
    "date: 2023-11-30 \n",
    "authors:\n",
    "  - name: Sébastien Boisgérault\n",
    "    email: Sebastien.Boisgerault@minesparis.psl.eu\n",
    "    url: https://github.com/boisgera\n",
    "    affiliations:\n",
    "      - institution: Mines Paris - PSL University\n",
    "        department: Institut des Transformation Numériques (ITN)\n",
    "github: boisgera\n",
    "license: CC-BY-4.0\n",
    "open_access: true\n",
    "---"
   ]
  },
  {
   "cell_type": "markdown",
   "metadata": {},
   "source": [
    "In order to understand how `.tldr` files are structured, we can add a new graphical objects, change some if their properties, etc. and each time we modify the document, analyze the corresponding evolution of the file.\n",
    "\n",
    "In this notebook, we develop some tooling to help us track such changes."
   ]
  },
  {
   "cell_type": "markdown",
   "metadata": {},
   "source": [
    "## Text comparison"
   ]
  },
  {
   "cell_type": "markdown",
   "metadata": {},
   "source": [
    "We define two similar versions of the \"zen of Python\":"
   ]
  },
  {
   "cell_type": "code",
   "execution_count": 2,
   "metadata": {},
   "outputs": [],
   "source": [
    "zen_1 = \"\"\"The Zen of Python, by Tim Peters\n",
    "\n",
    "Beautiful is better than ugly.\n",
    "Explicit is better than implicit.\n",
    "Simple is better than complex.\n",
    "Complex is better than complicated.\n",
    "Flat is better than nested.\n",
    "Sparse is better than dense.\n",
    "Readability counts.\n",
    "Special cases aren't special enough to break the rules.\n",
    "Errors should never pass silently.\n",
    "In the face of ambiguity, refuse the temptation to guess.\n",
    "There should be one obvious way to do it.\n",
    "Although that way may not be obvious at first.\n",
    "Now is better than never.\n",
    "Although never is often better than right now.\n",
    "If the implementation is hard to explain, it's a bad idea.\n",
    "If the implementation is easy to explain, it is a good idea.\n",
    "\"\"\""
   ]
  },
  {
   "cell_type": "code",
   "execution_count": 3,
   "metadata": {},
   "outputs": [],
   "source": [
    "zen_2 = \"\"\"\\\n",
    "The Zen of Python, by Tim Peters\n",
    "\n",
    "Beautiful is better than ugly.\n",
    "Explicit is better than implicit.\n",
    "Simple is better than complex.\n",
    "Complex is better than complicated.\n",
    "Flat is better than nested.\n",
    "Sparse is better than dense.\n",
    "Readability counts.\n",
    "Special cases aren't special enough to break the rules.\n",
    "Although practicality beats purity.\n",
    "Errors should never pass silently.\n",
    "Unless explicitly silenced.\n",
    "In the face of ambiguity, refuse the temptation to guess.\n",
    "There should be one-- and preferably only one --obvious way to do it.\n",
    "Although that way may not be obvious at first unless you're Dutch.\n",
    "Now is better than never.\n",
    "Although never is often better than *right* now.\n",
    "If the implementation is hard to explain, it's a bad idea.\n",
    "If the implementation is easy to explain, it may be a good idea.\n",
    "Namespaces are one honking great idea -- let's do more of those!\n",
    "\"\"\""
   ]
  },
  {
   "cell_type": "markdown",
   "metadata": {},
   "source": [
    "```{exercise}\n",
    " 1. Transform `zen_1` and `zen_2` into list of lines.\n",
    " 2. Use the [`difflib`](https://docs.python.org/3/library/difflib.html) module of the Python standard library to [`compare`](https://docs.python.org/3/library/difflib.html#difflib.Differ.compare) the two sequences.\n",
    " 3. Make a text out of the output of compare and print it.\n",
    " 4. Interpret the result and list the differences between both versions of the zen of Python.\n",
    "```"
   ]
  },
  {
   "cell_type": "code",
   "execution_count": 4,
   "metadata": {},
   "outputs": [
    {
     "name": "stdout",
     "output_type": "stream",
     "text": [
      "['The Zen of Python, by Tim Peters', '', 'Beautiful is better than ugly.', 'Explicit is better than implicit.', 'Simple is better than complex.', 'Complex is better than complicated.', 'Flat is better than nested.', 'Sparse is better than dense.', 'Readability counts.', \"Special cases aren't special enough to break the rules.\", 'Errors should never pass silently.', 'In the face of ambiguity, refuse the temptation to guess.', 'There should be one obvious way to do it.', 'Although that way may not be obvious at first.', 'Now is better than never.', 'Although never is often better than right now.', \"If the implementation is hard to explain, it's a bad idea.\", 'If the implementation is easy to explain, it is a good idea.']\n",
      "['The Zen of Python, by Tim Peters', '', 'Beautiful is better than ugly.', 'Explicit is better than implicit.', 'Simple is better than complex.', 'Complex is better than complicated.', 'Flat is better than nested.', 'Sparse is better than dense.', 'Readability counts.', \"Special cases aren't special enough to break the rules.\", 'Although practicality beats purity.', 'Errors should never pass silently.', 'Unless explicitly silenced.', 'In the face of ambiguity, refuse the temptation to guess.', 'There should be one-- and preferably only one --obvious way to do it.', \"Although that way may not be obvious at first unless you're Dutch.\", 'Now is better than never.', 'Although never is often better than *right* now.', \"If the implementation is hard to explain, it's a bad idea.\", 'If the implementation is easy to explain, it may be a good idea.', \"Namespaces are one honking great idea -- let's do more of those!\"]\n"
     ]
    }
   ],
   "source": [
    "#1.1\n",
    "\n",
    "lines_1 = zen_1.splitlines()\n",
    "lines_2 = zen_2.splitlines()\n",
    "\n",
    "print (lines_1)\n",
    "print (lines_2)"
   ]
  },
  {
   "cell_type": "code",
   "execution_count": 5,
   "metadata": {},
   "outputs": [
    {
     "name": "stdout",
     "output_type": "stream",
     "text": [
      "  The Zen of Python, by Tim Peters\n",
      "  \n",
      "  Beautiful is better than ugly.\n",
      "  Explicit is better than implicit.\n",
      "  Simple is better than complex.\n",
      "  Complex is better than complicated.\n",
      "  Flat is better than nested.\n",
      "  Sparse is better than dense.\n",
      "  Readability counts.\n",
      "  Special cases aren't special enough to break the rules.\n",
      "+ Although practicality beats purity.\n",
      "  Errors should never pass silently.\n",
      "+ Unless explicitly silenced.\n",
      "  In the face of ambiguity, refuse the temptation to guess.\n",
      "- There should be one obvious way to do it.\n",
      "+ There should be one-- and preferably only one --obvious way to do it.\n",
      "- Although that way may not be obvious at first.\n",
      "+ Although that way may not be obvious at first unless you're Dutch.\n",
      "?                                              ++++++++++++++++++++\n",
      "\n",
      "  Now is better than never.\n",
      "- Although never is often better than right now.\n",
      "+ Although never is often better than *right* now.\n",
      "?                                     +     +\n",
      "\n",
      "  If the implementation is hard to explain, it's a bad idea.\n",
      "- If the implementation is easy to explain, it is a good idea.\n",
      "?                                              ^^\n",
      "\n",
      "+ If the implementation is easy to explain, it may be a good idea.\n",
      "?                                              ^^^^^^\n",
      "\n",
      "+ Namespaces are one honking great idea -- let's do more of those!\n"
     ]
    }
   ],
   "source": [
    "#1.2\n",
    "\n",
    "import difflib as diff\n",
    "\n",
    "#appel de la classe Differ du module difflib\n",
    "differ = diff.Differ()  \n",
    "\n",
    "#utilisation de la méthode compare de la classe Differ\n",
    "comp = differ.compare(lines_1, lines_2)  \n",
    "#conversion en une liste\n",
    "comp_list = list(comp) \n",
    "\n",
    "for line in comp_list :\n",
    "   print(line)  "
   ]
  },
  {
   "cell_type": "markdown",
   "metadata": {},
   "source": [
    "We can make our job easier if we use HTML instead of plain text to visualise the differences between the two texts.\n",
    "\n",
    "\n",
    "```{exercise}\n",
    "  1. Use the [HtmlDiff](https://docs.python.org/3/library/difflib.html#difflib.HtmlDiff) class of difflib to produce a `diff.html` file that represents this difference in a HTML document.\n",
    "  2. Use the [webbrowser](https://docs.python.org/3/library/webbrowser.html) module of the standard library to open it!\n",
    "  3. Define a `display_diff_text` function that takes two arguments `text_1` and `text_2` and automates steps 1. and 2.\n",
    "```"
   ]
  },
  {
   "cell_type": "code",
   "execution_count": 6,
   "metadata": {},
   "outputs": [
    {
     "data": {
      "text/plain": [
       "9625"
      ]
     },
     "execution_count": 6,
     "metadata": {},
     "output_type": "execute_result"
    }
   ],
   "source": [
    "#2.1\n",
    "\n",
    "import webbrowser #ouverture dans un module de recherche ou a minima création fichier diff.html\n",
    "\n",
    "html_diff = diff.HtmlDiff()\n",
    "\n",
    "fin_html = html_diff.make_file(lines_1, lines_2)\n",
    "\n",
    "file = open(\"diff.html\", \"w\")\n",
    "file.write(fin_html)"
   ]
  },
  {
   "cell_type": "code",
   "execution_count": 7,
   "metadata": {},
   "outputs": [
    {
     "data": {
      "text/plain": [
       "True"
      ]
     },
     "execution_count": 7,
     "metadata": {},
     "output_type": "execute_result"
    }
   ],
   "source": [
    "#2.2\n",
    "\n",
    "webbrowser.open(\"diff.html\")  # ouverture du fichier"
   ]
  },
  {
   "cell_type": "code",
   "execution_count": 8,
   "metadata": {},
   "outputs": [],
   "source": [
    "#2.3\n",
    "\n",
    "from IPython.display import HTML\n",
    "\n",
    "#prend deux textes en argument et renvoie un HTML avec les différences entre les textes\n",
    "def display_diff_text (text_1, text_2) :\n",
    "    lines_1 = text_1.splitlines()\n",
    "    lines_2 = text_2.splitlines()\n",
    "    #création d'un contenu HTML avec les différences entre chaque ligne\n",
    "    sortie_html = html_diff.make_file(lines_1, lines_2) \n",
    "    name = f\"{text_1}{text_2}diff.html\"\n",
    "    file = open(\"name\", \"w\")\n",
    "    file.write(sortie_html)\n",
    "    return HTML(\"name\")"
   ]
  },
  {
   "cell_type": "markdown",
   "metadata": {},
   "source": [
    "## Comparison of JSON documents"
   ]
  },
  {
   "cell_type": "markdown",
   "metadata": {},
   "source": [
    "````{exercise} Comparison of dictionnaries\n",
    "\n",
    " 1. Create a `display_diff` function that takes two Python objects, converts them to strings then leverages `display_diff_text` to display the difference in a browser.\n",
    "\n",
    " 2. Consider the 3 dictionaries defined by\n",
    "    ```python\n",
    "    d1 = {k:k+1 for k in range(100)}\n",
    "    d2 = d1.copy(); d2[50] = 50\n",
    "    d3 = {k:k+1 for k in range(99, -1, -1)}\n",
    "    ```\n",
    "    `d1` and `d2` have a slight difference and `d1` and `d2` are equal.\n",
    "    Does your `display_diff` function make easy to spot where the difference is in the first case when it compares `d1` and `d2`?\n",
    "    Does it make easy to see that `d1` and `d3` are equal?\n",
    "\n",
    "  3. Investigate the [`pprint`](https://docs.python.org/3/library/pprint.html) module standard library ; use it to improve the behavior of `display_text_diff` in the two cases considered in the previous question.\n",
    "\n",
    "````\n",
    " "
   ]
  },
  {
   "cell_type": "code",
   "execution_count": 9,
   "metadata": {},
   "outputs": [
    {
     "data": {
      "text/html": [],
      "text/plain": [
       "<IPython.core.display.HTML object>"
      ]
     },
     "execution_count": 9,
     "metadata": {},
     "output_type": "execute_result"
    }
   ],
   "source": [
    "#3.1\n",
    "\n",
    "#on réutilise la fonction display_diff_text en convertissant les arugments en str\n",
    "def display_diff (object_1, object_2) :\n",
    "    return display_diff_text(str(object_1), str(object_2))\n",
    "\n",
    "#test\n",
    "d1 = {k:k+1 for k in range(100)}\n",
    "d2 = d1.copy(); d2[50] = 50\n",
    "d3 = {k:k+1 for k in range(99, -1, -1)}\n",
    "display_diff (d1, d2)"
   ]
  },
  {
   "cell_type": "markdown",
   "metadata": {},
   "source": [
    "**3.2**\n",
    "C'est l'ensemble de l'objet de départ qui est converti en str : au lieu de comparer ligne par ligne, on ne voit qu'une seule grande ligne, ce qui nuit à la visibilité."
   ]
  },
  {
   "cell_type": "code",
   "execution_count": 10,
   "metadata": {},
   "outputs": [
    {
     "name": "stdout",
     "output_type": "stream",
     "text": [
      "['T', 'h', 'e', ' ', 'Z', 'e',\n",
      " 'n', ' ', 'o', 'f', ' ', 'P',\n",
      " 'y', 't', 'h', 'o', 'n', ',',\n",
      " ' ', 'b', 'y', ' ', 'T', 'i',\n",
      " 'm', ' ', 'P', 'e', 't', 'e',\n",
      " 'r', 's', '\\n', '\\n', 'B',\n",
      " 'e', 'a', 'u', 't', 'i', 'f',\n",
      " 'u', 'l', ' ', 'i', 's', ' ',\n",
      " 'b', 'e', 't', 't', 'e', 'r',\n",
      " ' ', 't', 'h', 'a', 'n', ' ',\n",
      " 'u', 'g', 'l', 'y', '.',\n",
      " '\\n', 'E', 'x', 'p', 'l',\n",
      " 'i', 'c', 'i', 't', ' ', 'i',\n",
      " 's', ' ', 'b', 'e', 't', 't',\n",
      " 'e', 'r', ' ', 't', 'h', 'a',\n",
      " 'n', ' ', 'i', 'm', 'p', 'l',\n",
      " 'i', 'c', 'i', 't', '.',\n",
      " '\\n', 'S', 'i', 'm', 'p',\n",
      " 'l', 'e', ' ', 'i', 's', ' ',\n",
      " 'b', 'e', 't', 't', 'e', 'r',\n",
      " ' ', 't', 'h', 'a', 'n', ' ',\n",
      " 'c', 'o', 'm', 'p', 'l', 'e',\n",
      " 'x', '.', '\\n', 'C', 'o',\n",
      " 'm', 'p', 'l', 'e', 'x', ' ',\n",
      " 'i', 's', ' ', 'b', 'e', 't',\n",
      " 't', 'e', 'r', ' ', 't', 'h',\n",
      " 'a', 'n', ' ', 'c', 'o', 'm',\n",
      " 'p', 'l', 'i', 'c', 'a', 't',\n",
      " 'e', 'd', '.', '\\n', 'F',\n",
      " 'l', 'a', 't', ' ', 'i', 's',\n",
      " ' ', 'b', 'e', 't', 't', 'e',\n",
      " 'r', ' ', 't', 'h', 'a', 'n',\n",
      " ' ', 'n', 'e', 's', 't', 'e',\n",
      " 'd', '.', '\\n', 'S', 'p',\n",
      " 'a', 'r', 's', 'e', ' ', 'i',\n",
      " 's', ' ', 'b', 'e', 't', 't',\n",
      " 'e', 'r', ' ', 't', 'h', 'a',\n",
      " 'n', ' ', 'd', 'e', 'n', 's',\n",
      " 'e', '.', '\\n', 'R', 'e',\n",
      " 'a', 'd', 'a', 'b', 'i', 'l',\n",
      " 'i', 't', 'y', ' ', 'c', 'o',\n",
      " 'u', 'n', 't', 's', '.',\n",
      " '\\n', 'S', 'p', 'e', 'c',\n",
      " 'i', 'a', 'l', ' ', 'c', 'a',\n",
      " 's', 'e', 's', ' ', 'a', 'r',\n",
      " 'e', 'n', \"'\", 't', ' ', 's',\n",
      " 'p', 'e', 'c', 'i', 'a', 'l',\n",
      " ' ', 'e', 'n', 'o', 'u', 'g',\n",
      " 'h', ' ', 't', 'o', ' ', 'b',\n",
      " 'r', 'e', 'a', 'k', ' ', 't',\n",
      " 'h', 'e', ' ', 'r', 'u', 'l',\n",
      " 'e', 's', '.', '\\n', 'E',\n",
      " 'r', 'r', 'o', 'r', 's', ' ',\n",
      " 's', 'h', 'o', 'u', 'l', 'd',\n",
      " ' ', 'n', 'e', 'v', 'e', 'r',\n",
      " ' ', 'p', 'a', 's', 's', ' ',\n",
      " 's', 'i', 'l', 'e', 'n', 't',\n",
      " 'l', 'y', '.', '\\n', 'I',\n",
      " 'n', ' ', 't', 'h', 'e', ' ',\n",
      " 'f', 'a', 'c', 'e', ' ', 'o',\n",
      " 'f', ' ', 'a', 'm', 'b', 'i',\n",
      " 'g', 'u', 'i', 't', 'y', ',',\n",
      " ' ', 'r', 'e', 'f', 'u', 's',\n",
      " 'e', ' ', 't', 'h', 'e', ' ',\n",
      " 't', 'e', 'm', 'p', 't', 'a',\n",
      " 't', 'i', 'o', 'n', ' ', 't',\n",
      " 'o', ' ', 'g', 'u', 'e', 's',\n",
      " 's', '.', '\\n', 'T', 'h',\n",
      " 'e', 'r', 'e', ' ', 's', 'h',\n",
      " 'o', 'u', 'l', 'd', ' ', 'b',\n",
      " 'e', ' ', 'o', 'n', 'e', ' ',\n",
      " 'o', 'b', 'v', 'i', 'o', 'u',\n",
      " 's', ' ', 'w', 'a', 'y', ' ',\n",
      " 't', 'o', ' ', 'd', 'o', ' ',\n",
      " 'i', 't', '.', '\\n', 'A',\n",
      " 'l', 't', 'h', 'o', 'u', 'g',\n",
      " 'h', ' ', 't', 'h', 'a', 't',\n",
      " ' ', 'w', 'a', 'y', ' ', 'm',\n",
      " 'a', 'y', ' ', 'n', 'o', 't',\n",
      " ' ', 'b', 'e', ' ', 'o', 'b',\n",
      " 'v', 'i', 'o', 'u', 's', ' ',\n",
      " 'a', 't', ' ', 'f', 'i', 'r',\n",
      " 's', 't', '.', '\\n', 'N',\n",
      " 'o', 'w', ' ', 'i', 's', ' ',\n",
      " 'b', 'e', 't', 't', 'e', 'r',\n",
      " ' ', 't', 'h', 'a', 'n', ' ',\n",
      " 'n', 'e', 'v', 'e', 'r', '.',\n",
      " '\\n', 'A', 'l', 't', 'h',\n",
      " 'o', 'u', 'g', 'h', ' ', 'n',\n",
      " 'e', 'v', 'e', 'r', ' ', 'i',\n",
      " 's', ' ', 'o', 'f', 't', 'e',\n",
      " 'n', ' ', 'b', 'e', 't', 't',\n",
      " 'e', 'r', ' ', 't', 'h', 'a',\n",
      " 'n', ' ', 'r', 'i', 'g', 'h',\n",
      " 't', ' ', 'n', 'o', 'w', '.',\n",
      " '\\n', 'I', 'f', ' ', 't',\n",
      " 'h', 'e', ' ', 'i', 'm', 'p',\n",
      " 'l', 'e', 'm', 'e', 'n', 't',\n",
      " 'a', 't', 'i', 'o', 'n', ' ',\n",
      " 'i', 's', ' ', 'h', 'a', 'r',\n",
      " 'd', ' ', 't', 'o', ' ', 'e',\n",
      " 'x', 'p', 'l', 'a', 'i', 'n',\n",
      " ',', ' ', 'i', 't', \"'\", 's',\n",
      " ' ', 'a', ' ', 'b', 'a', 'd',\n",
      " ' ', 'i', 'd', 'e', 'a', '.',\n",
      " '\\n', 'I', 'f', ' ', 't',\n",
      " 'h', 'e', ' ', 'i', 'm', 'p',\n",
      " 'l', 'e', 'm', 'e', 'n', 't',\n",
      " 'a', 't', 'i', 'o', 'n', ' ',\n",
      " 'i', 's', ' ', 'e', 'a', 's',\n",
      " 'y', ' ', 't', 'o', ' ', 'e',\n",
      " 'x', 'p', 'l', 'a', 'i', 'n',\n",
      " ',', ' ', 'i', 't', ' ', 'i',\n",
      " 's', ' ', 'a', ' ', 'g', 'o',\n",
      " 'o', 'd', ' ', 'i', 'd', 'e',\n",
      " 'a', '.', '\\n']\n"
     ]
    }
   ],
   "source": [
    "#3.3\n",
    "\n",
    "import pprint\n",
    "printer = pprint.PrettyPrinter(width=30, compact=True, stream = None) #41 élément par ligne \n",
    "\n",
    "#test\n",
    "printer.pprint(list(zen_1))"
   ]
  },
  {
   "cell_type": "markdown",
   "metadata": {},
   "source": [
    "```{exercise} tldraw documents comparator\n",
    "Implement a function `tldraw_diff` that takes as argument two filenames that refer to tldraw documents and display their differences in the browser.\n",
    "```"
   ]
  },
  {
   "cell_type": "code",
   "execution_count": 11,
   "metadata": {},
   "outputs": [
    {
     "ename": "NameError",
     "evalue": "name 'hello' is not defined",
     "output_type": "error",
     "traceback": [
      "\u001b[1;31m---------------------------------------------------------------------------\u001b[0m",
      "\u001b[1;31mNameError\u001b[0m                                 Traceback (most recent call last)",
      "\u001b[1;32m<ipython-input-11-19cef5e9f467>\u001b[0m in \u001b[0;36m<module>\u001b[1;34m\u001b[0m\n\u001b[0;32m      7\u001b[0m \u001b[1;33m\u001b[0m\u001b[0m\n\u001b[0;32m      8\u001b[0m \u001b[1;31m#test\u001b[0m\u001b[1;33m\u001b[0m\u001b[1;33m\u001b[0m\u001b[1;33m\u001b[0m\u001b[0m\n\u001b[1;32m----> 9\u001b[1;33m \u001b[0mtldraw_diff\u001b[0m \u001b[1;33m(\u001b[0m\u001b[0mhello\u001b[0m\u001b[1;33m-\u001b[0m\u001b[0mtldraw\u001b[0m\u001b[1;33m.\u001b[0m\u001b[0mtldr\u001b[0m\u001b[1;33m,\u001b[0m \u001b[0mhello\u001b[0m\u001b[1;33m-\u001b[0m\u001b[0mtldraw\u001b[0m\u001b[1;33m-\u001b[0m\u001b[0mCopy1\u001b[0m\u001b[1;33m.\u001b[0m\u001b[0mtldr\u001b[0m\u001b[1;33m)\u001b[0m\u001b[1;33m\u001b[0m\u001b[1;33m\u001b[0m\u001b[0m\n\u001b[0m",
      "\u001b[1;31mNameError\u001b[0m: name 'hello' is not defined"
     ]
    }
   ],
   "source": [
    "def tldraw_diff (fichier_1, fichier_2) :\n",
    "    file_1 = open(fichier_1, mode=\"tr\", encoding = \"utf-8\")\n",
    "    file_2 = open(fichier_2, mode=\"tr\", encoding = \"utf-8\")\n",
    "    doc_1 = file_1.read() \n",
    "    doc_2 = file_2.read()\n",
    "    return display_diff(doc_1, doc_2)\n",
    "\n",
    "#test\n",
    "tldraw_diff (hello-tldraw.tldr, hello-tldraw-Copy1.tldr)"
   ]
  }
 ],
 "metadata": {
  "kernelspec": {
   "display_name": "Python 3 (ipykernel)",
   "language": "python",
   "name": "python3"
  },
  "language_info": {
   "codemirror_mode": {
    "name": "ipython",
    "version": 3
   },
   "file_extension": ".py",
   "mimetype": "text/x-python",
   "name": "python",
   "nbconvert_exporter": "python",
   "pygments_lexer": "ipython3",
   "version": "3.8.8"
  }
 },
 "nbformat": 4,
 "nbformat_minor": 4
}
